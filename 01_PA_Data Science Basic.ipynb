{
  "cells": [
    {
      "cell_type": "markdown",
      "metadata": {
        "id": "AHhrP8n-NWsy"
      },
      "source": [
        "# Programming Assignment: Data Science Basics"
      ]
    },
    {
      "cell_type": "markdown",
      "metadata": {
        "id": "LsupqJNhNWs1"
      },
      "source": [
        "In this programming assignment you need to apply your new `numpy`, `pandas` and `matplotlib` knowledge. You will need to do several [`groupby`](https://pandas.pydata.org/pandas-docs/stable/generated/pandas.DataFrame.groupby.html)s and [`join`](https://pandas.pydata.org/pandas-docs/stable/generated/pandas.DataFrame.join.html)`s to solve the task."
      ]
    },
    {
      "cell_type": "code",
      "execution_count": null,
      "metadata": {
        "id": "sr1QhIa3NWs2"
      },
      "outputs": [],
      "source": [
        "# Import Packages\n",
        "import pandas as pd\n",
        "import numpy as np\n",
        "import os\n",
        "import matplotlib.pyplot as plt\n",
        "%matplotlib inline"
      ]
    },
    {
      "cell_type": "markdown",
      "metadata": {
        "id": "I6D5gsG8NWs4"
      },
      "source": [
        "Pandas allows you to load the required data sets directly from github:"
      ]
    },
    {
      "cell_type": "code",
      "execution_count": null,
      "metadata": {
        "id": "fNA59rVBNWs4"
      },
      "outputs": [],
      "source": [
        "# Load Data\n",
        "transactions    = pd.read_csv('https://github.com/NikoStein/pds_data/raw/main/data/sales_train.csv.gz')\n",
        "items           = pd.read_csv('https://github.com/NikoStein/pds_data/raw/main/data/items.csv')\n",
        "item_categories = pd.read_csv('https://github.com/NikoStein/pds_data/raw/main/data/item_categories.csv')"
      ]
    },
    {
      "cell_type": "markdown",
      "metadata": {
        "id": "u1Nd-0_oNWs5"
      },
      "source": [
        "## Get to know the data\n",
        "Print the **shape** of the loaded dataframes and use [`df.head`](https://pandas.pydata.org/pandas-docs/stable/generated/pandas.DataFrame.head.html) function to print several rows. Examine the features you are given."
      ]
    },
    {
      "cell_type": "code",
      "execution_count": null,
      "metadata": {
        "id": "AqGkfiSbNWs6"
      },
      "outputs": [],
      "source": [
        "# Write your code here\n",
        "\n"
      ]
    },
    {
      "cell_type": "markdown",
      "metadata": {
        "id": "g-PuPjfcNWs7"
      },
      "source": [
        "## Maximum total revenue among all the shops\n",
        "\n",
        "Now use your `pandas` skills to get answers for the following questions.\n",
        "The first question is:\n",
        "\n",
        "What was the maximum total revenue among all the shops in July, 2013?\n",
        "\n",
        "* Hereinafter *revenue* refers to total sales minus value of goods returned.\n",
        "\n",
        "*Hints:*\n",
        "\n",
        "* Sometimes items are returned, find such examples in the dataset.\n",
        "* It is handy to split `date` field into [`day`, `month`, `year`] components and use `df.year == 13` and `df.month == 6` in order to select target subset of dates.\n",
        "* You may work with `date` feature as with strings, or you may first convert it to `pd.datetime` type with `pd.to_datetime` function, but do not forget to set correct `format` argument."
      ]
    },
    {
      "cell_type": "code",
      "execution_count": null,
      "metadata": {
        "id": "YQfgJNGpNWs8"
      },
      "outputs": [],
      "source": [
        "# Write your code here"
      ]
    },
    {
      "cell_type": "code",
      "execution_count": null,
      "metadata": {
        "id": "WCysoVJnNWs8"
      },
      "outputs": [],
      "source": [
        "# Save the final value in this variable\n",
        "max_revenue = None"
      ]
    },
    {
      "cell_type": "markdown",
      "metadata": {
        "id": "5MZy2mzjNWs9"
      },
      "source": [
        "In addition we can find the index (shop id) of the row with the max value in the column using ```idxmax()```"
      ]
    },
    {
      "cell_type": "code",
      "execution_count": null,
      "metadata": {
        "id": "SLWtV3kMNWs9"
      },
      "outputs": [],
      "source": [
        "# Write your code here"
      ]
    },
    {
      "cell_type": "markdown",
      "metadata": {
        "id": "-QorLvoFNWs9"
      },
      "source": [
        "## Constant price\n",
        "\n",
        "How many items are there, such that their price stays constant (to the best of our knowledge) during the whole period of time?\n",
        "\n",
        "* Let's assume, that the items are returned for the same price as they had been sold."
      ]
    },
    {
      "cell_type": "code",
      "execution_count": null,
      "metadata": {
        "id": "bb52AS72NWs-"
      },
      "outputs": [],
      "source": [
        "# Write your code here"
      ]
    },
    {
      "cell_type": "code",
      "execution_count": null,
      "metadata": {
        "id": "mkPhvgEJNWs-"
      },
      "outputs": [],
      "source": [
        "# Save the final value in this variable\n",
        "num_items_constant_price = None"
      ]
    },
    {
      "cell_type": "markdown",
      "metadata": {
        "id": "2o6VpfagNWs-"
      },
      "source": [
        "## Variance of sold items per day\n",
        "\n",
        "What was the variance of the number of sold items per day sequence for the shop with `shop_id = 25` in December, 2014?\n",
        "\n",
        "* Do not count the items that were sold but returned back later.\n",
        "* Fill `total_num_items_sold`: An (ordered) array that contains the total number of items sold on each day\n",
        "* Then compute variance of the of `total_num_items_sold`\n",
        "* If there were no sales at a given day, ***do not*** impute missing value with zero, just ignore that day"
      ]
    },
    {
      "cell_type": "code",
      "execution_count": null,
      "metadata": {
        "id": "Qmyr-RVoNWs_"
      },
      "outputs": [],
      "source": [
        "# Write your code here"
      ]
    },
    {
      "cell_type": "code",
      "execution_count": null,
      "metadata": {
        "id": "Ig806kqNNWs_"
      },
      "outputs": [],
      "source": [
        "# Save the final value in this variable\n",
        "total_num_items_sold = None"
      ]
    },
    {
      "cell_type": "code",
      "execution_count": null,
      "metadata": {
        "id": "WGMT33wRNWs_"
      },
      "outputs": [],
      "source": [
        "# Save the final value in this variable\n",
        "total_num_items_sold_var = None"
      ]
    },
    {
      "cell_type": "markdown",
      "metadata": {
        "id": "FKBHH9xSNWs_"
      },
      "source": [
        "## Visualization of the daily revenue\n",
        "\n",
        "Use `total_num_items_sold` to plot the daily revenue of `shop_id = 25` in December, 2014.\n",
        "\n",
        "* y-label: 'Num items'\n",
        "* x-label: 'Day'\n",
        "* plot-title: 'Daily revenue for shop_id = 25'\n",
        "* use plt.show() to display the plot in the end"
      ]
    },
    {
      "cell_type": "code",
      "execution_count": null,
      "metadata": {
        "id": "wyVQGWb3NWtA"
      },
      "outputs": [],
      "source": [
        "# Write your code here\n",
        "\n",
        "plt.show()"
      ]
    },
    {
      "cell_type": "markdown",
      "metadata": {
        "id": "RucRR46FNWtA"
      },
      "source": [
        "## Final submission\n",
        "Only for the submission (do not change the code)."
      ]
    },
    {
      "cell_type": "code",
      "execution_count": null,
      "metadata": {
        "id": "zy90FDmXNWtA"
      },
      "outputs": [],
      "source": [
        "print(max_revenue)\n",
        "print(num_items_constant_price)\n",
        "print(total_num_items_sold)\n",
        "print(total_num_items_sold_var)"
      ]
    },
    {
      "cell_type": "markdown",
      "metadata": {
        "id": "221s_rI5NWtA"
      },
      "source": [
        "## Bonus\n",
        "\n",
        "What item category that generated the highest revenue in spring 2014?</b></li>\n",
        "\n",
        "* Submit the `id` of the category found.\n",
        "    \n",
        "* Here, spring is the period from March to May."
      ]
    },
    {
      "cell_type": "code",
      "execution_count": null,
      "metadata": {
        "id": "PLvrJMlxNWtA"
      },
      "outputs": [],
      "source": [
        "# Write your code here"
      ]
    },
    {
      "cell_type": "code",
      "execution_count": null,
      "metadata": {
        "id": "TArztHmfNWtA"
      },
      "outputs": [],
      "source": [
        "# Save the final value in this variable\n",
        "category_id_with_max_revenue = None"
      ]
    },
    {
      "cell_type": "code",
      "execution_count": null,
      "metadata": {
        "id": "-rMa3LHTNWtB"
      },
      "outputs": [],
      "source": [
        "print(category_id_with_max_revenue)"
      ]
    }
  ],
  "metadata": {
    "kernelspec": {
      "display_name": "Python 3",
      "language": "python",
      "name": "python3"
    },
    "language_info": {
      "codemirror_mode": {
        "name": "ipython",
        "version": 3
      },
      "file_extension": ".py",
      "mimetype": "text/x-python",
      "name": "python",
      "nbconvert_exporter": "python",
      "pygments_lexer": "ipython3",
      "version": "3.7.9"
    },
    "toc": {
      "base_numbering": "1",
      "nav_menu": {},
      "number_sections": true,
      "sideBar": true,
      "skip_h1_title": false,
      "title_cell": "Table of Contents",
      "title_sidebar": "Contents",
      "toc_cell": false,
      "toc_position": {
        "height": "calc(100% - 180px)",
        "left": "10px",
        "top": "150px",
        "width": "261.0714416503906px"
      },
      "toc_section_display": true,
      "toc_window_display": true
    },
    "colab": {
      "provenance": []
    }
  },
  "nbformat": 4,
  "nbformat_minor": 0
}